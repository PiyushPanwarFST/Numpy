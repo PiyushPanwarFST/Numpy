{
 "cells": [
  {
   "cell_type": "markdown",
   "id": "c42e6c72-02d2-4aa2-9205-9b2fc5b59243",
   "metadata": {},
   "source": [
    "## how many time is taken my python list or numpy list"
   ]
  },
  {
   "cell_type": "markdown",
   "id": "1a20bd94-efc6-4017-81ce-2042fc500447",
   "metadata": {},
   "source": [
    "### Python"
   ]
  },
  {
   "cell_type": "code",
   "execution_count": 3,
   "id": "5c6443a3-23bc-45fd-abf6-5f78b6fb2b21",
   "metadata": {},
   "outputs": [
    {
     "data": {
      "text/plain": [
       "[0, 1, 2, 3, 4]"
      ]
     },
     "execution_count": 3,
     "metadata": {},
     "output_type": "execute_result"
    }
   ],
   "source": [
    "python_list = list(range(100))\n",
    "python_list[:5]"
   ]
  },
  {
   "cell_type": "code",
   "execution_count": 4,
   "id": "290af63a-7dd8-47a1-a0fb-9eba33a76f9c",
   "metadata": {},
   "outputs": [
    {
     "data": {
      "text/plain": [
       "(28, 2800)"
      ]
     },
     "execution_count": 4,
     "metadata": {},
     "output_type": "execute_result"
    }
   ],
   "source": [
    "import sys\n",
    "\n",
    "singel_ele = sys.getsizeof(python_list[0])\n",
    "list_size = sys.getsizeof(python_list[0])*len(python_list)\n",
    "\n",
    "singel_ele, list_size"
   ]
  },
  {
   "cell_type": "markdown",
   "id": "4001037b-22d8-4947-914c-57e1a0430eba",
   "metadata": {},
   "source": [
    "### Numpy"
   ]
  },
  {
   "cell_type": "code",
   "execution_count": 6,
   "id": "073e5a06-920a-4580-97e1-9c2db55f0573",
   "metadata": {},
   "outputs": [
    {
     "data": {
      "text/plain": [
       "array([1, 2, 3])"
      ]
     },
     "execution_count": 6,
     "metadata": {},
     "output_type": "execute_result"
    }
   ],
   "source": [
    "import numpy as np\n",
    "\n",
    "arr = np.array([1,2,3])\n",
    "arr"
   ]
  },
  {
   "cell_type": "code",
   "execution_count": 10,
   "id": "2e67a08a-a831-4a42-bf6b-49af040e22c1",
   "metadata": {},
   "outputs": [
    {
     "data": {
      "text/plain": [
       "array([0, 1, 2, 3, 4])"
      ]
     },
     "execution_count": 10,
     "metadata": {},
     "output_type": "execute_result"
    }
   ],
   "source": [
    "numpy_arr = np.arange(100)\n",
    "numpy_arr[:5]"
   ]
  },
  {
   "cell_type": "code",
   "execution_count": 11,
   "id": "9c00a7ba-e675-44a4-a852-7285039067b7",
   "metadata": {},
   "outputs": [
    {
     "data": {
      "text/plain": [
       "800"
      ]
     },
     "execution_count": 11,
     "metadata": {},
     "output_type": "execute_result"
    }
   ],
   "source": [
    "numpy_arr.nbytes"
   ]
  },
  {
   "cell_type": "markdown",
   "id": "4c41ee23-a91f-4bf5-88da-6cc729660ed0",
   "metadata": {},
   "source": [
    "## Speed"
   ]
  },
  {
   "cell_type": "markdown",
   "id": "3ef19d36-1520-403b-8c88-cc4b9df62b4e",
   "metadata": {},
   "source": [
    "### Python"
   ]
  },
  {
   "cell_type": "code",
   "execution_count": 13,
   "id": "d2db315a-7402-4f85-9181-a4eea0c6db48",
   "metadata": {},
   "outputs": [
    {
     "data": {
      "text/plain": [
       "((1, 8), (2, 7), (3, 9))"
      ]
     },
     "execution_count": 13,
     "metadata": {},
     "output_type": "execute_result"
    }
   ],
   "source": [
    "l1 = [1,2,3]\n",
    "l2 = [8,7,9]\n",
    "\n",
    "tuple(zip(l1, l2))    "
   ]
  },
  {
   "cell_type": "code",
   "execution_count": 14,
   "id": "88082939-3c92-4604-804d-92815d7a7e79",
   "metadata": {},
   "outputs": [
    {
     "name": "stdout",
     "output_type": "stream",
     "text": [
      "1 8\n",
      "2 7\n",
      "3 9\n"
     ]
    }
   ],
   "source": [
    "for x, y in zip(l1, l2):\n",
    "    print(x, y)"
   ]
  },
  {
   "cell_type": "code",
   "execution_count": 17,
   "id": "300cf0f7-c43f-44bd-9225-1ab17997deba",
   "metadata": {},
   "outputs": [
    {
     "data": {
      "text/plain": [
       "0.044673919677734375"
      ]
     },
     "execution_count": 17,
     "metadata": {},
     "output_type": "execute_result"
    }
   ],
   "source": [
    "import time\n",
    "\n",
    "Length = 1000000\n",
    "\n",
    "l1 = list(range(Length))\n",
    "l2 = list(range(Length))\n",
    "\n",
    "start_time = time.time()\n",
    "l3 = [x+y for x,y in zip(l1, l2)]\n",
    "end_time = time.time()\n",
    "\n",
    "Python_List_time = end_time - start_time\n",
    "Python_List_time"
   ]
  },
  {
   "cell_type": "code",
   "execution_count": null,
   "id": "be709869-bd6a-464f-bb99-f49a8dda7906",
   "metadata": {},
   "outputs": [],
   "source": [
    "### Nump"
   ]
  },
  {
   "cell_type": "code",
   "execution_count": 19,
   "id": "19d2b1a6-39f3-4e27-b293-975963274e16",
   "metadata": {},
   "outputs": [
    {
     "data": {
      "text/plain": [
       "(array([0, 1, 2, 3]), array([0, 1, 2, 3]))"
      ]
     },
     "execution_count": 19,
     "metadata": {},
     "output_type": "execute_result"
    }
   ],
   "source": [
    "n1 = np.arange(Length)\n",
    "n2 = np.arange(Length)\n",
    "\n",
    "n1[:4], n2[:4]"
   ]
  },
  {
   "cell_type": "code",
   "execution_count": 20,
   "id": "2add6362-5558-4bec-89ec-085f03a88b12",
   "metadata": {},
   "outputs": [
    {
     "name": "stdout",
     "output_type": "stream",
     "text": [
      "Numpy array took:  0.004185199737548828\n"
     ]
    }
   ],
   "source": [
    "start_time = time.time()\n",
    "n3 = n1 + n2\n",
    "end_time = time.time()\n",
    "\n",
    "print(\"Numpy array took: \", end_time-start_time)"
   ]
  },
  {
   "cell_type": "markdown",
   "id": "aa113243-e269-4d32-86be-9688ce390338",
   "metadata": {},
   "source": [
    "## Built In Functions"
   ]
  },
  {
   "cell_type": "markdown",
   "id": "eea62958-5fb2-45e1-a270-577c494dc1bd",
   "metadata": {},
   "source": [
    "### Python"
   ]
  },
  {
   "cell_type": "code",
   "execution_count": 3,
   "id": "05594a9e-7127-4531-85b1-c8351ebda4a1",
   "metadata": {},
   "outputs": [
    {
     "data": {
      "text/plain": [
       "([0, 1, 2, 3], [0, 1, 2, 3])"
      ]
     },
     "execution_count": 3,
     "metadata": {},
     "output_type": "execute_result"
    }
   ],
   "source": [
    "l1 = list(range(5))\n",
    "l2 = list(range(5))\n",
    "\n",
    "l1[:4], l2[:4]"
   ]
  },
  {
   "cell_type": "code",
   "execution_count": 4,
   "id": "b02bd5e5-fbb1-438e-8d37-8240bc1fcc6d",
   "metadata": {},
   "outputs": [
    {
     "data": {
      "text/plain": [
       "[0, 2, 4, 6, 8]"
      ]
     },
     "execution_count": 4,
     "metadata": {},
     "output_type": "execute_result"
    }
   ],
   "source": [
    "l3 = [x+y for x,y in zip(l1, l2)]\n",
    "l3"
   ]
  },
  {
   "cell_type": "markdown",
   "id": "90086fef-e112-40b1-ba1e-e3fb97938866",
   "metadata": {},
   "source": [
    "### Numpy"
   ]
  },
  {
   "cell_type": "code",
   "execution_count": 6,
   "id": "f66af236-d8d3-4da6-aad5-f3c2a88340ac",
   "metadata": {},
   "outputs": [
    {
     "data": {
      "text/plain": [
       "(array([0, 1, 2, 3, 4]), array([0, 1, 2, 3, 4]))"
      ]
     },
     "execution_count": 6,
     "metadata": {},
     "output_type": "execute_result"
    }
   ],
   "source": [
    "import numpy as np\n",
    "\n",
    "n1 = np.arange(5)\n",
    "n2 = np.arange(5)\n",
    "\n",
    "n1, n2"
   ]
  },
  {
   "cell_type": "code",
   "execution_count": 7,
   "id": "0aadb54c-237b-4c78-ac64-9addcc0de3ab",
   "metadata": {},
   "outputs": [
    {
     "data": {
      "text/plain": [
       "array([0, 2, 4, 6, 8])"
      ]
     },
     "execution_count": 7,
     "metadata": {},
     "output_type": "execute_result"
    }
   ],
   "source": [
    "n3 = n1 + n2\n",
    "n3"
   ]
  },
  {
   "cell_type": "code",
   "execution_count": null,
   "id": "3a5d7c02-a3f3-4bee-8aec-f3ff2c102957",
   "metadata": {},
   "outputs": [],
   "source": []
  }
 ],
 "metadata": {
  "kernelspec": {
   "display_name": "Python 3 (ipykernel)",
   "language": "python",
   "name": "python3"
  },
  "language_info": {
   "codemirror_mode": {
    "name": "ipython",
    "version": 3
   },
   "file_extension": ".py",
   "mimetype": "text/x-python",
   "name": "python",
   "nbconvert_exporter": "python",
   "pygments_lexer": "ipython3",
   "version": "3.12.4"
  }
 },
 "nbformat": 4,
 "nbformat_minor": 5
}
