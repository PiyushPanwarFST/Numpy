{
 "cells": [
  {
   "cell_type": "code",
   "execution_count": 2,
   "id": "c6c6c33a-12bd-4732-ab58-af8c973e051a",
   "metadata": {},
   "outputs": [
    {
     "data": {
      "text/plain": [
       "1"
      ]
     },
     "execution_count": 2,
     "metadata": {},
     "output_type": "execute_result"
    }
   ],
   "source": [
    "import numpy as np\n",
    "\n",
    "rev_quater1 = np.array([10, 12, 9])\n",
    "rev_quater1.ndim"
   ]
  },
  {
   "cell_type": "code",
   "execution_count": 3,
   "id": "8cfdb57f-96ac-40b9-a7f4-d4bed3e26be3",
   "metadata": {},
   "outputs": [
    {
     "data": {
      "text/plain": [
       "array([[10, 12,  9],\n",
       "       [15, 11, 13]])"
      ]
     },
     "execution_count": 3,
     "metadata": {},
     "output_type": "execute_result"
    }
   ],
   "source": [
    "rev = np.array([[10, 12, 9],[15, 11, 13]])\n",
    "rev"
   ]
  },
  {
   "cell_type": "code",
   "execution_count": 4,
   "id": "1f34e34d-cc34-4020-9fe8-671e4fba3fb6",
   "metadata": {},
   "outputs": [
    {
     "data": {
      "text/plain": [
       "10"
      ]
     },
     "execution_count": 4,
     "metadata": {},
     "output_type": "execute_result"
    }
   ],
   "source": [
    "rev[0,0]\n",
    "# accessing 1st ele of 1st array"
   ]
  },
  {
   "cell_type": "code",
   "execution_count": 8,
   "id": "348b0c57-adff-4ad5-8039-c7cb73f2f2d2",
   "metadata": {},
   "outputs": [
    {
     "data": {
      "text/plain": [
       "dtype('float64')"
      ]
     },
     "execution_count": 8,
     "metadata": {},
     "output_type": "execute_result"
    }
   ],
   "source": [
    "rev = np.array([[10, 12, 9],[15, 11, 13]], dtype=np.float64)\n",
    "rev.dtype"
   ]
  },
  {
   "cell_type": "code",
   "execution_count": 9,
   "id": "bc362fac-b26a-45dc-a0eb-604e00365a37",
   "metadata": {},
   "outputs": [
    {
     "data": {
      "text/plain": [
       "8"
      ]
     },
     "execution_count": 9,
     "metadata": {},
     "output_type": "execute_result"
    }
   ],
   "source": [
    "rev.itemsize"
   ]
  },
  {
   "cell_type": "code",
   "execution_count": 10,
   "id": "3974fd0f-cac8-45f4-8499-3499e803dc38",
   "metadata": {},
   "outputs": [
    {
     "data": {
      "text/plain": [
       "6"
      ]
     },
     "execution_count": 10,
     "metadata": {},
     "output_type": "execute_result"
    }
   ],
   "source": [
    "rev.size"
   ]
  },
  {
   "cell_type": "code",
   "execution_count": 11,
   "id": "df4a3ce0-dd26-47bd-9cbf-be5db0a9469b",
   "metadata": {},
   "outputs": [
    {
     "data": {
      "text/plain": [
       "(2, 3)"
      ]
     },
     "execution_count": 11,
     "metadata": {},
     "output_type": "execute_result"
    }
   ],
   "source": [
    "rev.shape"
   ]
  },
  {
   "cell_type": "code",
   "execution_count": 12,
   "id": "089f69fc-9fc0-4389-b966-ec82c3d8ba3e",
   "metadata": {},
   "outputs": [
    {
     "data": {
      "text/plain": [
       "array([ 9., 10., 11., 12., 13., 15.])"
      ]
     },
     "execution_count": 12,
     "metadata": {},
     "output_type": "execute_result"
    }
   ],
   "source": [
    "np.sort(rev , axis = None)"
   ]
  },
  {
   "cell_type": "code",
   "execution_count": 13,
   "id": "def8cf15-b510-4976-ae90-a1fcbfd3f0bf",
   "metadata": {},
   "outputs": [
    {
     "data": {
      "text/plain": [
       "array([[0., 0., 0., 0.],\n",
       "       [0., 0., 0., 0.],\n",
       "       [0., 0., 0., 0.]])"
      ]
     },
     "execution_count": 13,
     "metadata": {},
     "output_type": "execute_result"
    }
   ],
   "source": [
    "np.zeros((3,4))"
   ]
  },
  {
   "cell_type": "code",
   "execution_count": 14,
   "id": "96093c42-3e94-41b9-b7b1-aa3d5ec46cd6",
   "metadata": {},
   "outputs": [
    {
     "data": {
      "text/plain": [
       "array([[1., 1., 1., 1.],\n",
       "       [1., 1., 1., 1.],\n",
       "       [1., 1., 1., 1.]])"
      ]
     },
     "execution_count": 14,
     "metadata": {},
     "output_type": "execute_result"
    }
   ],
   "source": [
    "np.ones((3,4))"
   ]
  },
  {
   "cell_type": "code",
   "execution_count": 15,
   "id": "6b473f27-b0c8-402d-a161-e5616ce6e0b2",
   "metadata": {},
   "outputs": [
    {
     "data": {
      "text/plain": [
       "array([0, 1, 2, 3, 4])"
      ]
     },
     "execution_count": 15,
     "metadata": {},
     "output_type": "execute_result"
    }
   ],
   "source": [
    "np.arange(5)"
   ]
  },
  {
   "cell_type": "code",
   "execution_count": 16,
   "id": "dc72425d-10f2-473a-aa51-20bcbe6ab77a",
   "metadata": {},
   "outputs": [
    {
     "data": {
      "text/plain": [
       "array([20, 21, 22, 23, 24, 25, 26, 27, 28, 29])"
      ]
     },
     "execution_count": 16,
     "metadata": {},
     "output_type": "execute_result"
    }
   ],
   "source": [
    "np.arange(20,30)"
   ]
  },
  {
   "cell_type": "code",
   "execution_count": 17,
   "id": "d99fa181-ecfd-4f1b-9643-8747f63c140b",
   "metadata": {},
   "outputs": [],
   "source": [
    "# print ele at 2 space "
   ]
  },
  {
   "cell_type": "code",
   "execution_count": 18,
   "id": "5f4add3b-debe-4134-8c04-79bde6770422",
   "metadata": {},
   "outputs": [
    {
     "data": {
      "text/plain": [
       "array([20, 22, 24, 26, 28])"
      ]
     },
     "execution_count": 18,
     "metadata": {},
     "output_type": "execute_result"
    }
   ],
   "source": [
    "np.arange(20,30,2)"
   ]
  },
  {
   "cell_type": "code",
   "execution_count": 2,
   "id": "23ee8dea-69c2-4923-9a4d-be82e0db7006",
   "metadata": {},
   "outputs": [
    {
     "data": {
      "text/plain": [
       "array([20. , 22.5, 25. , 27.5, 30. ])"
      ]
     },
     "execution_count": 2,
     "metadata": {},
     "output_type": "execute_result"
    }
   ],
   "source": [
    "import numpy as np\n",
    "np.linspace(20,30,5)\n",
    "\n",
    "# it will print 5 ele at equal space"
   ]
  },
  {
   "cell_type": "code",
   "execution_count": 4,
   "id": "824c106f-b014-4f91-a8f2-58ac175cd857",
   "metadata": {},
   "outputs": [
    {
     "data": {
      "text/plain": [
       "array([10., 12.,  9., 15., 11., 13.])"
      ]
     },
     "execution_count": 4,
     "metadata": {},
     "output_type": "execute_result"
    }
   ],
   "source": [
    "rev = np.array([[10, 12, 9],[15, 11, 13]], dtype=np.float64)\n",
    "rev.flatten()\n",
    "\n",
    "# it will return a new array without modifiled the original sequence"
   ]
  },
  {
   "cell_type": "code",
   "execution_count": 5,
   "id": "70aa9bd8-7b4b-4544-807a-0b710284661d",
   "metadata": {},
   "outputs": [
    {
     "data": {
      "text/plain": [
       "9.0"
      ]
     },
     "execution_count": 5,
     "metadata": {},
     "output_type": "execute_result"
    }
   ],
   "source": [
    "rev.min() # minimum revenue"
   ]
  },
  {
   "cell_type": "code",
   "execution_count": 6,
   "id": "8b7d0356-aa1f-4449-b9a3-d64fdace36d8",
   "metadata": {},
   "outputs": [
    {
     "data": {
      "text/plain": [
       "15.0"
      ]
     },
     "execution_count": 6,
     "metadata": {},
     "output_type": "execute_result"
    }
   ],
   "source": [
    "rev.max()"
   ]
  },
  {
   "cell_type": "code",
   "execution_count": 7,
   "id": "de4efa6f-e93f-4777-a32b-6a8fe9fddf31",
   "metadata": {},
   "outputs": [
    {
     "data": {
      "text/plain": [
       "array([[10., 12.,  9.],\n",
       "       [15., 11., 13.]])"
      ]
     },
     "execution_count": 7,
     "metadata": {},
     "output_type": "execute_result"
    }
   ],
   "source": [
    "rev"
   ]
  },
  {
   "cell_type": "code",
   "execution_count": 10,
   "id": "875e5d87-57d0-4802-9ed6-00c7259c40f6",
   "metadata": {},
   "outputs": [
    {
     "data": {
      "text/plain": [
       "array([25., 23., 22.])"
      ]
     },
     "execution_count": 10,
     "metadata": {},
     "output_type": "execute_result"
    }
   ],
   "source": [
    "rev.sum(axis=0)  # doing sum by column wise (vertically)"
   ]
  },
  {
   "cell_type": "code",
   "execution_count": 9,
   "id": "659ee41f-3a37-49fd-a1bb-031ffc509cdc",
   "metadata": {},
   "outputs": [
    {
     "data": {
      "text/plain": [
       "array([31., 39.])"
      ]
     },
     "execution_count": 9,
     "metadata": {},
     "output_type": "execute_result"
    }
   ],
   "source": [
    "rev.sum(axis=1) # doing sum of 1st row (horizontally)"
   ]
  },
  {
   "cell_type": "code",
   "execution_count": 11,
   "id": "5e1af979-a7ad-4a5c-b524-783c6e1a0005",
   "metadata": {},
   "outputs": [
    {
     "name": "stdout",
     "output_type": "stream",
     "text": [
      "row:  [10. 12.  9.]\n",
      "row:  [15. 11. 13.]\n"
     ]
    }
   ],
   "source": [
    "for row in rev:\n",
    "    print(\"row: \", row)"
   ]
  },
  {
   "cell_type": "code",
   "execution_count": 12,
   "id": "fab020d3-2dde-4825-a2d4-94a9480586bc",
   "metadata": {},
   "outputs": [
    {
     "data": {
      "text/plain": [
       "array([1., 2., 4.])"
      ]
     },
     "execution_count": 12,
     "metadata": {},
     "output_type": "execute_result"
    }
   ],
   "source": [
    "b = np.array([1,4,16])\n",
    "np.sqrt(b)"
   ]
  },
  {
   "cell_type": "code",
   "execution_count": 13,
   "id": "e667cfcb-2030-4e5f-97dc-11e4dba7ceab",
   "metadata": {},
   "outputs": [
    {
     "data": {
      "text/plain": [
       "array([  1,  16, 256])"
      ]
     },
     "execution_count": 13,
     "metadata": {},
     "output_type": "execute_result"
    }
   ],
   "source": [
    "np.square(b)"
   ]
  },
  {
   "cell_type": "code",
   "execution_count": 14,
   "id": "9f34b47f-9d43-4cc4-82ac-fb4ddd3285ea",
   "metadata": {},
   "outputs": [
    {
     "data": {
      "text/plain": [
       "6.48074069840786"
      ]
     },
     "execution_count": 14,
     "metadata": {},
     "output_type": "execute_result"
    }
   ],
   "source": [
    "np.std(b)"
   ]
  },
  {
   "cell_type": "code",
   "execution_count": null,
   "id": "1bc1e1d3-20ba-4bf4-aaff-3abf93e3b52c",
   "metadata": {},
   "outputs": [],
   "source": []
  }
 ],
 "metadata": {
  "kernelspec": {
   "display_name": "Python 3 (ipykernel)",
   "language": "python",
   "name": "python3"
  },
  "language_info": {
   "codemirror_mode": {
    "name": "ipython",
    "version": 3
   },
   "file_extension": ".py",
   "mimetype": "text/x-python",
   "name": "python",
   "nbconvert_exporter": "python",
   "pygments_lexer": "ipython3",
   "version": "3.12.4"
  }
 },
 "nbformat": 4,
 "nbformat_minor": 5
}
