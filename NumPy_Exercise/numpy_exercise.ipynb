{
 "cells": [
  {
   "cell_type": "markdown",
   "id": "399f4ab1",
   "metadata": {},
   "source": [
    "<h3 align=\"center\" style=\"color:blue\">Codebasics Python Course: Numpy Exercise</h3>"
   ]
  },
  {
   "cell_type": "markdown",
   "id": "99f1a070",
   "metadata": {},
   "source": [
    "Below two numpy arrays are given with following columns. \n",
    "\n",
    "* Employee Details (1) Employee ID (2) Department (3) Salary\n",
    "* Performance Metrics (1) Employee ID (2) Performance Score (out of 100) (3) Number of Projects Completed\n",
    "\n",
    "Using these two arrays you need to complete set of tasks which are given in the notebook cells (along with hints)"
   ]
  },
  {
   "cell_type": "code",
   "execution_count": 3,
   "id": "ec997f5a",
   "metadata": {},
   "outputs": [
    {
     "data": {
      "text/plain": [
       "array([['101', 'Sales', '55000', 'Satya Nadella', '101', '85', '5'],\n",
       "       ['102', 'HR', '52000', 'Emily Johnson', '102', '78', '3'],\n",
       "       ['103', 'IT', '72000', 'Fatima Razaak', '103', '92', '7'],\n",
       "       ['104', 'Sales', '60000', 'John Smith', '104', '88', '6'],\n",
       "       ['105', 'IT', '68000', 'Priya Singh', '105', '79', '4'],\n",
       "       ['106', 'HR', '54000', 'Li Wei', '106', '81', '5'],\n",
       "       ['107', 'IT', '71000', 'Michael Brown', '107', '91', '8'],\n",
       "       ['108', 'Sales', '59000', 'Sunita Sharma', '108', '77', '4'],\n",
       "       ['109', 'HR', '53000', 'Chen Wei', '109', '83', '4']], dtype='<U21')"
      ]
     },
     "execution_count": 3,
     "metadata": {},
     "output_type": "execute_result"
    }
   ],
   "source": [
    "import numpy as np\n",
    "\n",
    "# Employee Details (1) Employee ID (2) Department (3) Salary\n",
    "employee_details = np.array([\n",
    "    [101, 'Sales', 55000, 'Satya Nadella'],  \n",
    "    [102, 'HR', 52000, 'Emily Johnson'],    \n",
    "    [103, 'IT', 72000, 'Fatima Razaak'],        \n",
    "    [104, 'Sales', 60000, 'John Smith'],    \n",
    "    [105, 'IT', 68000, 'Priya Singh'],      \n",
    "    [106, 'HR', 54000, 'Li Wei'],           \n",
    "    [107, 'IT', 71000, 'Michael Brown'],    \n",
    "    [108, 'Sales', 59000, 'Sunita Sharma'], \n",
    "    [109, 'HR', 53000, 'Chen Wei']          \n",
    "])\n",
    "\n",
    "# Performance Metrics (1) Employee ID (2) Performance Score (out of 100) (3) Number of Projects Completed\n",
    "performance_metrics = np.array([\n",
    "    [101, 85, 5],\n",
    "    [102, 78, 3],\n",
    "    [103, 92, 7],\n",
    "    [104, 88, 6],\n",
    "    [105, 79, 4],\n",
    "    [106, 81, 5],\n",
    "    [107, 91, 8],\n",
    "    [108, 77, 4],\n",
    "    [109, 83, 4]\n",
    "])\n"
   ]
  },
  {
   "cell_type": "markdown",
   "id": "d2a4d20d",
   "metadata": {},
   "source": [
    "### Task 1: Merge above two numpy arrays using np.hstack"
   ]
  },
  {
   "cell_type": "code",
   "execution_count": 4,
   "id": "6f15bb12",
   "metadata": {},
   "outputs": [
    {
     "data": {
      "text/plain": [
       "array([['101', 'Sales', '55000', 'Satya Nadella', '101', '85', '5'],\n",
       "       ['102', 'HR', '52000', 'Emily Johnson', '102', '78', '3'],\n",
       "       ['103', 'IT', '72000', 'Fatima Razaak', '103', '92', '7'],\n",
       "       ['104', 'Sales', '60000', 'John Smith', '104', '88', '6'],\n",
       "       ['105', 'IT', '68000', 'Priya Singh', '105', '79', '4'],\n",
       "       ['106', 'HR', '54000', 'Li Wei', '106', '81', '5'],\n",
       "       ['107', 'IT', '71000', 'Michael Brown', '107', '91', '8'],\n",
       "       ['108', 'Sales', '59000', 'Sunita Sharma', '108', '77', '4'],\n",
       "       ['109', 'HR', '53000', 'Chen Wei', '109', '83', '4']], dtype='<U21')"
      ]
     },
     "execution_count": 4,
     "metadata": {},
     "output_type": "execute_result"
    }
   ],
   "source": [
    "# write code here\n",
    "import numpy as np\n",
    "\n",
    "# Employee Details (1) Employee ID (2) Department (3) Salary\n",
    "employee_details = np.array([\n",
    "    [101, 'Sales', 55000, 'Satya Nadella'],  \n",
    "    [102, 'HR', 52000, 'Emily Johnson'],    \n",
    "    [103, 'IT', 72000, 'Fatima Razaak'],        \n",
    "    [104, 'Sales', 60000, 'John Smith'],    \n",
    "    [105, 'IT', 68000, 'Priya Singh'],      \n",
    "    [106, 'HR', 54000, 'Li Wei'],           \n",
    "    [107, 'IT', 71000, 'Michael Brown'],    \n",
    "    [108, 'Sales', 59000, 'Sunita Sharma'], \n",
    "    [109, 'HR', 53000, 'Chen Wei']          \n",
    "])\n",
    "\n",
    "# Performance Metrics (1) Employee ID (2) Performance Score (out of 100) (3) Number of Projects Completed\n",
    "performance_metrics = np.array([\n",
    "    [101, 85, 5],\n",
    "    [102, 78, 3],\n",
    "    [103, 92, 7],\n",
    "    [104, 88, 6],\n",
    "    [105, 79, 4],\n",
    "    [106, 81, 5],\n",
    "    [107, 91, 8],\n",
    "    [108, 77, 4],\n",
    "    [109, 83, 4]\n",
    "])\n",
    "\n",
    "np.hstack((employee_details,performance_metrics))"
   ]
  },
  {
   "cell_type": "markdown",
   "id": "f6a93493",
   "metadata": {},
   "source": [
    "### Task 2: Print All the Salaries"
   ]
  },
  {
   "cell_type": "code",
   "execution_count": 5,
   "id": "6465fc6f",
   "metadata": {},
   "outputs": [
    {
     "data": {
      "text/plain": [
       "array(['55000', '52000', '72000', '60000', '68000', '54000', '71000',\n",
       "       '59000', '53000'], dtype='<U21')"
      ]
     },
     "execution_count": 5,
     "metadata": {},
     "output_type": "execute_result"
    }
   ],
   "source": [
    "# write code here\n",
    "all_salaries = employee_details[:, 2]\n",
    "all_salaries"
   ]
  },
  {
   "cell_type": "markdown",
   "id": "18313d6c",
   "metadata": {},
   "source": [
    "### Task 3:  Print All the Salaries in Ascending Order"
   ]
  },
  {
   "cell_type": "code",
   "execution_count": 4,
   "id": "388a42b8",
   "metadata": {
    "scrolled": true
   },
   "outputs": [
    {
     "data": {
      "text/plain": [
       "array(['52000', '53000', '54000', '55000', '59000', '60000', '68000',\n",
       "       '71000', '72000'], dtype='<U21')"
      ]
     },
     "execution_count": 4,
     "metadata": {},
     "output_type": "execute_result"
    }
   ],
   "source": [
    "# write code here\n",
    "import numpy as np\n",
    "\n",
    "employee_details = np.array([\n",
    "    [101, 'Sales', 55000, 'Satya Nadella'],  \n",
    "    [102, 'HR', 52000, 'Emily Johnson'],    \n",
    "    [103, 'IT', 72000, 'Fatima Razaak'],        \n",
    "    [104, 'Sales', 60000, 'John Smith'],    \n",
    "    [105, 'IT', 68000, 'Priya Singh'],      \n",
    "    [106, 'HR', 54000, 'Li Wei'],           \n",
    "    [107, 'IT', 71000, 'Michael Brown'],    \n",
    "    [108, 'Sales', 59000, 'Sunita Sharma'], \n",
    "    [109, 'HR', 53000, 'Chen Wei']          \n",
    "])\n",
    "all_salaries = employee_details[:, 2]\n",
    "all_salaries\n",
    "\n",
    "salaries = np.sort(all_salaries)\n",
    "salaries"
   ]
  },
  {
   "cell_type": "code",
   "execution_count": 5,
   "id": "939e581a-bea0-44c6-a7a1-9dfcb311969f",
   "metadata": {},
   "outputs": [
    {
     "data": {
      "text/plain": [
       "array(['55000', '52000', '72000', '60000', '68000', '54000', '71000',\n",
       "       '59000', '53000'], dtype='<U21')"
      ]
     },
     "execution_count": 5,
     "metadata": {},
     "output_type": "execute_result"
    }
   ],
   "source": [
    "all_salaries = employee_details[:, 2]\n",
    "all_salaries"
   ]
  },
  {
   "cell_type": "markdown",
   "id": "f8167f59",
   "metadata": {},
   "source": [
    "### Task 4:  Iterate through entire array and print only employee id and name"
   ]
  },
  {
   "cell_type": "code",
   "execution_count": 14,
   "id": "504c7fba",
   "metadata": {},
   "outputs": [
    {
     "name": "stdout",
     "output_type": "stream",
     "text": [
      "ID: 101, NAME: Satya Nadella\n",
      "ID: 102, NAME: Emily Johnson\n",
      "ID: 103, NAME: Fatima Razaak\n",
      "ID: 104, NAME: John Smith\n",
      "ID: 105, NAME: Priya Singh\n",
      "ID: 106, NAME: Li Wei\n",
      "ID: 107, NAME: Michael Brown\n",
      "ID: 108, NAME: Sunita Sharma\n",
      "ID: 109, NAME: Chen Wei\n"
     ]
    }
   ],
   "source": [
    "# write code here\n",
    "for columns in employee_details:\n",
    "    print(f\"ID: {columns[0]}, NAME: {columns[3]}\")"
   ]
  },
  {
   "cell_type": "markdown",
   "id": "586b7e31",
   "metadata": {},
   "source": [
    "### Task 5: Print performance score of all the employees"
   ]
  },
  {
   "cell_type": "code",
   "execution_count": 16,
   "id": "1584d882",
   "metadata": {},
   "outputs": [
    {
     "data": {
      "text/plain": [
       "array([85, 78, 92, 88, 79, 81, 91, 77, 83])"
      ]
     },
     "execution_count": 16,
     "metadata": {},
     "output_type": "execute_result"
    }
   ],
   "source": [
    "# write code here\n",
    "scores = performance_metrics[:, 1]\n",
    "scores"
   ]
  },
  {
   "cell_type": "markdown",
   "id": "3d9a92ef",
   "metadata": {},
   "source": [
    "### Task 6: Convert these scores to float type by using astype(float) function"
   ]
  },
  {
   "cell_type": "code",
   "execution_count": 17,
   "id": "050ee1ae",
   "metadata": {},
   "outputs": [
    {
     "data": {
      "text/plain": [
       "array([85., 78., 92., 88., 79., 81., 91., 77., 83.])"
      ]
     },
     "execution_count": 17,
     "metadata": {},
     "output_type": "execute_result"
    }
   ],
   "source": [
    "# write code here\n",
    "scores.astype(float)"
   ]
  },
  {
   "cell_type": "markdown",
   "id": "d16afb33",
   "metadata": {},
   "source": [
    "### Task 7:  Now print the average performance score of all the employees"
   ]
  },
  {
   "cell_type": "code",
   "execution_count": 19,
   "id": "94086c24",
   "metadata": {},
   "outputs": [
    {
     "data": {
      "text/plain": [
       "83.78"
      ]
     },
     "execution_count": 19,
     "metadata": {},
     "output_type": "execute_result"
    }
   ],
   "source": [
    "# write code here\n",
    "round(np.average(scores),2)"
   ]
  },
  {
   "cell_type": "markdown",
   "id": "86902984",
   "metadata": {},
   "source": [
    "### Task 8:  Print all the unique departments. You can use np.unique function for this"
   ]
  },
  {
   "cell_type": "code",
   "execution_count": 21,
   "id": "b95ca0ef",
   "metadata": {},
   "outputs": [
    {
     "data": {
      "text/plain": [
       "array(['Sales', 'HR', 'IT', 'Sales', 'IT', 'HR', 'IT', 'Sales', 'HR'],\n",
       "      dtype='<U21')"
      ]
     },
     "execution_count": 21,
     "metadata": {},
     "output_type": "execute_result"
    }
   ],
   "source": [
    "# first print departments from all the records\n",
    "\n",
    "departments = employee_details[:, 1]\n",
    "departments"
   ]
  },
  {
   "cell_type": "code",
   "execution_count": 22,
   "id": "764f2dbd-9bbc-437a-bc30-8bc9f5300f78",
   "metadata": {},
   "outputs": [
    {
     "data": {
      "text/plain": [
       "array(['HR', 'IT', 'Sales'], dtype='<U21')"
      ]
     },
     "execution_count": 22,
     "metadata": {},
     "output_type": "execute_result"
    }
   ],
   "source": [
    "# write code here\n",
    "\n",
    "unique_departments = np.unique(departments)\n",
    "unique_departments"
   ]
  },
  {
   "cell_type": "markdown",
   "id": "5707cbae",
   "metadata": {},
   "source": [
    "### Task 9: Print average salary in HR department"
   ]
  },
  {
   "cell_type": "code",
   "execution_count": 6,
   "id": "2638deb2",
   "metadata": {},
   "outputs": [
    {
     "data": {
      "text/plain": [
       "array([['102', 'HR', '52000', 'Emily Johnson'],\n",
       "       ['106', 'HR', '54000', 'Li Wei'],\n",
       "       ['109', 'HR', '53000', 'Chen Wei']], dtype='<U21')"
      ]
     },
     "execution_count": 6,
     "metadata": {},
     "output_type": "execute_result"
    }
   ],
   "source": [
    "# First print all the records in HR department\n",
    "hr_column = employee_details[employee_details[:, 1] == 'HR']\n",
    "hr_column"
   ]
  },
  {
   "cell_type": "code",
   "execution_count": 12,
   "id": "39ea4122",
   "metadata": {},
   "outputs": [
    {
     "data": {
      "text/plain": [
       "array([52000., 54000., 53000.])"
      ]
     },
     "execution_count": 12,
     "metadata": {},
     "output_type": "execute_result"
    }
   ],
   "source": [
    "# Now from these records only print  the salary column. Convert that to float using astype(float) function\n",
    "\n",
    "# write code here\n",
    "hr_salary = hr_column[:, 2].astype(float)\n",
    "hr_salary"
   ]
  },
  {
   "cell_type": "code",
   "execution_count": 13,
   "id": "5c836bbb",
   "metadata": {},
   "outputs": [
    {
     "data": {
      "text/plain": [
       "53000.0"
      ]
     },
     "execution_count": 13,
     "metadata": {},
     "output_type": "execute_result"
    }
   ],
   "source": [
    "# Take an average of this column using np.mean() function\n",
    "\n",
    "# write code here\n",
    "hr_salary_avg = np.average(hr_salary)\n",
    "hr_salary_avg"
   ]
  },
  {
   "cell_type": "code",
   "execution_count": null,
   "id": "e76e5407-1c25-415a-849e-2e45bd9c278a",
   "metadata": {},
   "outputs": [],
   "source": []
  }
 ],
 "metadata": {
  "kernelspec": {
   "display_name": "Python 3 (ipykernel)",
   "language": "python",
   "name": "python3"
  },
  "language_info": {
   "codemirror_mode": {
    "name": "ipython",
    "version": 3
   },
   "file_extension": ".py",
   "mimetype": "text/x-python",
   "name": "python",
   "nbconvert_exporter": "python",
   "pygments_lexer": "ipython3",
   "version": "3.12.4"
  }
 },
 "nbformat": 4,
 "nbformat_minor": 5
}
