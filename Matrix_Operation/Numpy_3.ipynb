{
 "cells": [
  {
   "cell_type": "code",
   "execution_count": 1,
   "id": "c7b6f9f9-5fda-4d2f-930d-b7761e5d998a",
   "metadata": {},
   "outputs": [],
   "source": [
    "# Sales data for Quarter 1 (Matrix 1) == january to june and Quarter 2 (Matrix 2) == July to December\n",
    "# Rows represent different products, columns represent different regions\n",
    "\n",
    "import numpy as np\n",
    "\n",
    "q1 = np.array([\n",
    "    [200, 220, 250],  # Product A\n",
    "    [150, 180, 210],  # Product B\n",
    "    [300, 330, 360]   # Product C\n",
    "])\n",
    "\n",
    "q2 = np.array([\n",
    "    [209, 231, 259],  # Product A\n",
    "    [155, 192, 222],  # Product B\n",
    "    [310, 340, 375]   # Product C\n",
    "])"
   ]
  },
  {
   "cell_type": "code",
   "execution_count": 2,
   "id": "b8dd43b5-a9bd-486e-a87c-4aba0725397c",
   "metadata": {},
   "outputs": [
    {
     "data": {
      "text/plain": [
       "array([[409, 451, 509],\n",
       "       [305, 372, 432],\n",
       "       [610, 670, 735]])"
      ]
     },
     "execution_count": 2,
     "metadata": {},
     "output_type": "execute_result"
    }
   ],
   "source": [
    "q1 + q2\n",
    "# merging the for whole year and same products"
   ]
  },
  {
   "cell_type": "code",
   "execution_count": 3,
   "id": "e99493b2-8b1a-4d3f-8c27-07c6a7e60a13",
   "metadata": {},
   "outputs": [
    {
     "data": {
      "text/plain": [
       "array([[ 9, 11,  9],\n",
       "       [ 5, 12, 12],\n",
       "       [10, 10, 15]])"
      ]
     },
     "execution_count": 3,
     "metadata": {},
     "output_type": "execute_result"
    }
   ],
   "source": [
    "q2 - q1\n",
    "# how much sales is greater then in q2 then q1"
   ]
  },
  {
   "cell_type": "code",
   "execution_count": 5,
   "id": "910a6139-a5dc-4ec4-9c91-da30a7b1c2c6",
   "metadata": {},
   "outputs": [
    {
     "data": {
      "text/plain": [
       "array([[4.5       , 5.        , 3.6       ],\n",
       "       [3.33333333, 6.66666667, 5.71428571],\n",
       "       [3.33333333, 3.03030303, 4.16666667]])"
      ]
     },
     "execution_count": 5,
     "metadata": {},
     "output_type": "execute_result"
    }
   ],
   "source": [
    "# % sales units growth in q2 compared to q1\n",
    "\n",
    "(q2 - q1)*100/q1"
   ]
  },
  {
   "cell_type": "code",
   "execution_count": 8,
   "id": "c9462091-e722-48b8-aa96-27315f073e82",
   "metadata": {},
   "outputs": [
    {
     "data": {
      "text/plain": [
       "array([[2000, 2640, 2750],\n",
       "       [1200, 1620, 2100],\n",
       "       [4500, 5280, 6120]])"
      ]
     },
     "execution_count": 8,
     "metadata": {},
     "output_type": "execute_result"
    }
   ],
   "source": [
    "prices = np.array([\n",
    "    [10, 12, 11],  # Prices for Product A in different regions\n",
    "    [8,  9,  10],  # Prices for Product B\n",
    "    [15, 16, 17]   # Prices for Product C\n",
    "])\n",
    "\n",
    "q1_revenue = q1 * prices\n",
    "q1_revenue"
   ]
  },
  {
   "cell_type": "code",
   "execution_count": null,
   "id": "6f6f1944-2161-4e5b-bdf1-0de7221a7445",
   "metadata": {},
   "outputs": [],
   "source": [
    "# let's suppose Apple giving 20% of discount on their products"
   ]
  },
  {
   "cell_type": "code",
   "execution_count": 13,
   "id": "012eb360-8852-48b8-b9ae-25aa2434a3e8",
   "metadata": {},
   "outputs": [
    {
     "data": {
      "text/plain": [
       "array([[ 400.,  528.,  550.],\n",
       "       [ 240.,  324.,  420.],\n",
       "       [ 900., 1056., 1224.]])"
      ]
     },
     "execution_count": 13,
     "metadata": {},
     "output_type": "execute_result"
    }
   ],
   "source": [
    "discount_q1 = q1_revenue * 0.2\n",
    "discount_q1"
   ]
  },
  {
   "cell_type": "code",
   "execution_count": 14,
   "id": "d72acb4c-6ce5-437c-950e-a4adfd13b8ea",
   "metadata": {},
   "outputs": [
    {
     "data": {
      "text/plain": [
       "array([[1600., 2112., 2200.],\n",
       "       [ 960., 1296., 1680.],\n",
       "       [3600., 4224., 4896.]])"
      ]
     },
     "execution_count": 14,
     "metadata": {},
     "output_type": "execute_result"
    }
   ],
   "source": [
    "net_revenue = q1_revenue - discount_q1\n",
    "net_revenue"
   ]
  },
  {
   "cell_type": "code",
   "execution_count": 15,
   "id": "cf613b52-2986-458b-a7c7-75c8af5d82e0",
   "metadata": {},
   "outputs": [
    {
     "data": {
      "text/plain": [
       "22568.0"
      ]
     },
     "execution_count": 15,
     "metadata": {},
     "output_type": "execute_result"
    }
   ],
   "source": [
    "np.sum(net_revenue)"
   ]
  },
  {
   "cell_type": "code",
   "execution_count": 17,
   "id": "2dad7276-4a93-4cfa-b2ca-9108cad90975",
   "metadata": {},
   "outputs": [
    {
     "data": {
      "text/plain": [
       "5642.0"
      ]
     },
     "execution_count": 17,
     "metadata": {},
     "output_type": "execute_result"
    }
   ],
   "source": [
    "np.sum(discount_q1)\n",
    "# total discount given by Apple of each category of product"
   ]
  },
  {
   "cell_type": "code",
   "execution_count": 19,
   "id": "c430bc86-0839-45c6-b95f-0ffd651e4325",
   "metadata": {},
   "outputs": [
    {
     "data": {
      "text/plain": [
       "array([450000, 370000])"
      ]
     },
     "execution_count": 19,
     "metadata": {},
     "output_type": "execute_result"
    }
   ],
   "source": [
    "# first column is square footage, second is bedrooms\n",
    "\n",
    "features = np.array([\n",
    "    [2000, 3], # house 1\n",
    "    [1800, 2]  # house 2\n",
    "])\n",
    "\n",
    "weights = np.array([150, 50000])\n",
    "\n",
    "price = np.dot(features, weights)\n",
    "price"
   ]
  },
  {
   "cell_type": "code",
   "execution_count": 20,
   "id": "276ebc01-19fa-4b6d-9d72-22dd38064c56",
   "metadata": {},
   "outputs": [
    {
     "data": {
      "text/plain": [
       "array([-3,  6, -3])"
      ]
     },
     "execution_count": 20,
     "metadata": {},
     "output_type": "execute_result"
    }
   ],
   "source": [
    "# we can also do cross product bw two numpy array\n",
    "\n",
    "c = np.array([1,2,3])\n",
    "d = np.array([4,5,6])\n",
    "np.cross(c,d)"
   ]
  },
  {
   "cell_type": "code",
   "execution_count": null,
   "id": "4f78ef60-20b8-4a37-ba20-6534fcb45104",
   "metadata": {},
   "outputs": [],
   "source": []
  }
 ],
 "metadata": {
  "kernelspec": {
   "display_name": "Python 3 (ipykernel)",
   "language": "python",
   "name": "python3"
  },
  "language_info": {
   "codemirror_mode": {
    "name": "ipython",
    "version": 3
   },
   "file_extension": ".py",
   "mimetype": "text/x-python",
   "name": "python",
   "nbconvert_exporter": "python",
   "pygments_lexer": "ipython3",
   "version": "3.12.4"
  }
 },
 "nbformat": 4,
 "nbformat_minor": 5
}
